{
 "cells": [
  {
   "cell_type": "code",
   "execution_count": 69,
   "metadata": {
    "_cell_guid": "b1076dfc-b9ad-4769-8c92-a6c4dae69d19",
    "_uuid": "8f2839f25d086af736a60e9eeb907d3b93b6e0e5"
   },
   "outputs": [],
   "source": [
    "# This Python 3 environment comes with many helpful analytics libraries installed\n",
    "# It is defined by the kaggle/python docker image: https://github.com/kaggle/docker-python\n",
    "# For example, here's several helpful packages to load in \n",
    "\n",
    "import numpy as np # linear algebra\n",
    "import pandas as pd # data processing, CSV file I/O (e.g. pd.read_csv)\n",
    "pd.set_option(\"display.max_columns\", None)\n",
    "import xgboost as xgb\n",
    "import matplotlib.pyplot as plt\n",
    "import seaborn as sns\n",
    "import warnings\n",
    "warnings.filterwarnings(\"ignore\")\n",
    "%matplotlib inline"
   ]
  },
  {
   "cell_type": "code",
   "execution_count": 70,
   "metadata": {
    "_cell_guid": "79c7e3d0-c299-4dcb-8224-4455121ee9b0",
    "_uuid": "d629ff2d2480ee46fbb7e2d37f6b5fab8052498a"
   },
   "outputs": [],
   "source": [
    "train = pd.read_csv(\"C:\\\\scnguh\\\\datamining\\\\pubg\\\\all\\\\train_V2.csv\")\n",
    "test = pd.read_csv(\"C:\\\\scnguh\\\\datamining\\\\pubg\\\\all\\\\test_V2.csv\")"
   ]
  },
  {
   "cell_type": "code",
   "execution_count": 71,
   "metadata": {
    "_uuid": "1d619f0f7654eba970f8f3636249576a04143b12"
   },
   "outputs": [],
   "source": [
    "# killPlace\n",
    "train = train[train.killPlace <= 100]\n",
    "# winPlacePerc should not be null\n",
    "train = train[train.winPlacePerc >= 0 ]"
   ]
  },
  {
   "cell_type": "code",
   "execution_count": 72,
   "metadata": {
    "_uuid": "388b187dd2df77c006718a5f6f0a2967377d06f5"
   },
   "outputs": [],
   "source": [
    "df_all = pd.concat([train, test])"
   ]
  },
  {
   "cell_type": "code",
   "execution_count": 73,
   "metadata": {
    "_uuid": "8b7b28b5e136b39aa10c472000b79c15edf01450"
   },
   "outputs": [],
   "source": [
    "## Feature project, part1 Personal features\n",
    "\n",
    "# DBNOs ratio in whole team\n",
    "df1 = df_all.groupby(['groupId'], as_index=False).agg({'DBNOs':'sum'})\n",
    "df1.reset_index(inplace=True, drop=True)\n",
    "df1.rename(columns={'DBNOs':'DBNOs_team'}, inplace=True)\n",
    "df2 = pd.merge(df_all, df1, on='groupId', how='left')\n",
    "df2 = df2[['Id', 'DBNOs', 'DBNOs_team']]\n",
    "df2.loc[:, 'DBNOs_ratio'] = df2.DBNOs / df2.DBNOs_team\n",
    "feature1 = df2[['Id', 'DBNOs_ratio']]\n",
    "feature1.fillna(0, inplace=True)"
   ]
  },
  {
   "cell_type": "code",
   "execution_count": 74,
   "metadata": {
    "_kg_hide-output": false,
    "_uuid": "f8deed156aa3ab05cf7063c1175f6b273534d7a3"
   },
   "outputs": [],
   "source": [
    "# Assists ratio in whole team\n",
    "df1 = df_all.groupby(['groupId'], as_index=False).agg({'assists':'sum'})\n",
    "df1.reset_index(inplace=True, drop=True)\n",
    "df1.rename(columns={'assists':'assists_team'}, inplace=True)\n",
    "df2 = pd.merge(df_all, df1, on='groupId', how='left')\n",
    "df2 = df2[['Id', 'assists', 'assists_team']]\n",
    "df2.loc[:, 'assists_ratio'] = df2.assists / df2.assists_team\n",
    "feature2 = df2[['Id', 'assists_ratio']]\n",
    "feature2.fillna(0, inplace=True)"
   ]
  },
  {
   "cell_type": "code",
   "execution_count": 75,
   "metadata": {
    "_uuid": "a1b0f6c34ea065c18749e6686adbf4e593e3c6f4"
   },
   "outputs": [],
   "source": [
    "# Damage ratio in whole team\n",
    "df1 = df_all.groupby(['groupId'], as_index=False).agg({'damageDealt':'sum'})\n",
    "df1.reset_index(inplace=True, drop=True)\n",
    "df1.rename(columns={'damageDealt':'damageDealt_team'}, inplace=True)\n",
    "df2 = pd.merge(df_all, df1, on='groupId', how='left')\n",
    "df2 = df2[['Id', 'damageDealt', 'damageDealt_team']]\n",
    "df2.loc[:, 'damageDealt_ratio'] = df2.damageDealt / df2.damageDealt_team\n",
    "feature3 = df2[['Id', 'damageDealt_ratio']]\n",
    "feature3.fillna(0, inplace=True)"
   ]
  },
  {
   "cell_type": "code",
   "execution_count": 76,
   "metadata": {
    "_uuid": "4895be38699f01f687454c954a15f91fee0e1e16"
   },
   "outputs": [],
   "source": [
    "# Headshot ratio\n",
    "df1 = df_all[['Id', 'headshotKills', 'kills']]\n",
    "df1.loc[:,'headshot_ratio'] = df1.headshotKills / df1.kills\n",
    "feature4 = df1[['Id', 'headshot_ratio']]\n",
    "feature4.fillna(0, inplace=True)"
   ]
  },
  {
   "cell_type": "code",
   "execution_count": 77,
   "metadata": {
    "_uuid": "62d8827e153302336dd46ecaef943605496f16f6"
   },
   "outputs": [],
   "source": [
    "# Heals ratio in whole team\n",
    "df1 = df_all.groupby(['groupId'], as_index=False).agg({'heals':'sum'})\n",
    "df1.reset_index(inplace=True, drop=True)\n",
    "df1.rename(columns={'heals':'heals_team'}, inplace=True)\n",
    "df2 = pd.merge(df_all, df1, on='groupId', how='left')\n",
    "df2 = df2[['Id', 'heals', 'heals_team']]\n",
    "df2.loc[:, 'heals_ratio'] = df2.heals / df2.heals_team\n",
    "feature5 = df2[['Id', 'heals_ratio']]\n",
    "feature5.fillna(0, inplace=True)"
   ]
  },
  {
   "cell_type": "code",
   "execution_count": 78,
   "metadata": {
    "_uuid": "7ec156bafe019e70d58395cb0960304ba6614936"
   },
   "outputs": [],
   "source": [
    "# Rank delta\n",
    "df1 = df_all[['Id', 'killPlace', 'maxPlace']]\n",
    "df1.loc[:,'rank_delta'] = abs(df1.killPlace - df1.maxPlace)\n",
    "feature6 = df1[['Id', 'rank_delta']]"
   ]
  },
  {
   "cell_type": "code",
   "execution_count": 79,
   "metadata": {
    "_uuid": "9d90ca8c59638b8a0d7dc990ddd863298b7dc221"
   },
   "outputs": [],
   "source": [
    "# Is kill place top 10\n",
    "df1 = df_all[['Id', 'killPlace']]\n",
    "df2 = df1[df1.killPlace <= 10]\n",
    "df3 = df1[df1.killPlace > 10]\n",
    "df2.loc[:,'is_killplace_top10'] = 1\n",
    "df3.loc[:,'is_killplace_top10'] = 0\n",
    "df4 = pd.concat([df2, df3])\n",
    "feature7 = df4[['Id', 'is_killplace_top10']]"
   ]
  },
  {
   "cell_type": "code",
   "execution_count": 80,
   "metadata": {
    "_uuid": "521da32e75fccc78f09ba96dba6853b06f7ee864",
    "scrolled": true
   },
   "outputs": [],
   "source": [
    "# Total moving distance\n",
    "df1 = df_all[['Id', 'rideDistance', 'swimDistance', 'walkDistance', 'winPlacePerc']]\n",
    "df1.loc[:,'total_distance'] = df1.rideDistance + df1.swimDistance + df1.walkDistance\n",
    "'''\n",
    "low: [0, 0.3]              L\n",
    "medium: (0.3, 0.6]         M\n",
    "medium high: (0.6, 0.85]   MH\n",
    "high: (0.85, 1]            H\n",
    "\n",
    "level  mean_distance\n",
    "0     H     4097.159395\n",
    "1     L      230.670046\n",
    "2     M     1338.473811\n",
    "3    MH     3118.616026\n",
    "'''\n",
    "# temp.loc[:,'level'] = temp.apply(lambda x:'L' if x[1]>=0 and x[1]<=0.3 \\\n",
    "#                                  else ('M' if x[1]>0.3 and x[1]<=0.6 \\\n",
    "#                                        else ('MH' if x[1]>0.6 and x[1]<=0.85 \\\n",
    "#                                              else 'H')), axis=1)\n",
    "bins = [0, 230, 1338, 3118, 4097, float(\"inf\")]\n",
    "labels = ['A', 'B', 'C', 'D', 'E']\n",
    "temp1 = pd.cut(df1.total_distance, bins, labels=labels, include_lowest=True)\n",
    "feature8 = pd.concat([df1[['Id']], temp1], axis=1)"
   ]
  },
  {
   "cell_type": "code",
   "execution_count": 81,
   "metadata": {
    "_uuid": "c8e1f388318f45eff68dfdd516d7f8512b00165b"
   },
   "outputs": [],
   "source": [
    "# Merge personal features\n",
    "features = [feature1, feature2, feature3, feature4, feature5, feature6, feature7, feature8]\n",
    "person_features = df_all.Id.to_frame()\n",
    "for ft in features:\n",
    "    person_features = pd.merge(person_features, ft, on='Id')"
   ]
  },
  {
   "cell_type": "code",
   "execution_count": 82,
   "metadata": {},
   "outputs": [],
   "source": [
    "## Group features\n",
    "\n",
    "# Teammates\n",
    "df1 = df_all[['groupId', 'matchId']]\n",
    "df2 = df1.groupby(['groupId'], as_index=False).agg({'matchId':'count'})\n",
    "df2.rename(columns={'matchId':'teammates'}, inplace=True)\n",
    "gf1 = df2"
   ]
  },
  {
   "cell_type": "code",
   "execution_count": 83,
   "metadata": {},
   "outputs": [],
   "source": [
    "# Group avg damage\n",
    "df1 = df_all[['groupId', 'damageDealt']]\n",
    "df2 = df1.groupby(['groupId'], as_index=False).agg({'damageDealt':'sum'})\n",
    "df2.rename(columns={'damageDealt':'gp_damage'}, inplace=True)\n",
    "df3 = pd.merge(df2, gf1, on='groupId')\n",
    "df3.loc[:,'gp_avg_damage'] = df3.gp_damage / df3.teammates\n",
    "gf2 = df3[['groupId', 'gp_avg_damage']]"
   ]
  },
  {
   "cell_type": "code",
   "execution_count": 84,
   "metadata": {},
   "outputs": [],
   "source": [
    "# Group avg knock down\n",
    "df1 = df_all[['groupId', 'DBNOs']]\n",
    "df2 = df1.groupby(['groupId'], as_index=False).agg({'DBNOs':'sum'})\n",
    "df2.rename(columns={'DBNOs':'gp_DBNOs'}, inplace=True)\n",
    "df3 = pd.merge(df2, gf1, on='groupId')\n",
    "df3.loc[:,'gp_avg_DBNOs'] = df3.gp_DBNOs / df3.teammates\n",
    "gf3 = df3[['groupId', 'gp_avg_DBNOs']]"
   ]
  },
  {
   "cell_type": "code",
   "execution_count": 85,
   "metadata": {},
   "outputs": [],
   "source": [
    "# Group avg kills\n",
    "df1 = df_all[['groupId', 'kills']]\n",
    "df2 = df1.groupby(['groupId'], as_index=False).agg({'kills':'sum'})\n",
    "df2.rename(columns={'kills':'gp_kills'}, inplace=True)\n",
    "df3 = pd.merge(df2, gf1, on='groupId')\n",
    "df3.loc[:,'gp_avg_kills'] = df3.gp_kills / df3.teammates\n",
    "gf4 = df3[['groupId', 'gp_avg_kills']]"
   ]
  },
  {
   "cell_type": "code",
   "execution_count": 86,
   "metadata": {},
   "outputs": [],
   "source": [
    "# Group avg ride distance\n",
    "df1 = df_all[['groupId', 'rideDistance']]\n",
    "df2 = df1.groupby(['groupId'], as_index=False).agg({'rideDistance':'sum'})\n",
    "df2.rename(columns={'rideDistance':'gp_rideDistance'}, inplace=True)\n",
    "df3 = pd.merge(df2, gf1, on='groupId')\n",
    "df3.loc[:,'gp_avg_rideDistance'] = df3.gp_rideDistance / df3.teammates\n",
    "gf5 = df3[['groupId', 'gp_avg_rideDistance']]\n",
    "df_all.drop(['rideDistance', 'swimDistance', 'walkDistance'], axis=1, inplace=True)"
   ]
  },
  {
   "cell_type": "code",
   "execution_count": 87,
   "metadata": {},
   "outputs": [],
   "source": [
    "# Group top kill place\n",
    "df1 = df_all[['groupId', 'killPlace']]\n",
    "df2 = df1.groupby(['groupId'], as_index=False).agg({'killPlace':'min'})\n",
    "df2.rename(columns={'killPlace':'gp_top_killPlace'}, inplace=True)\n",
    "bins = [0, 10, 30, 50, float(\"inf\")]\n",
    "labels = [\"A\", \"B\", \"C\", \"D\"]\n",
    "out = pd.cut(df2.gp_top_killPlace, bins, labels=labels, include_lowest=True)\n",
    "df2.rename(columns={'gp_top_killPlace':'gp_top_killPlace1'}, inplace=True)\n",
    "gf6 = pd.concat([df2, out], axis=1)\n",
    "gf6.drop(['gp_top_killPlace1'], axis=1, inplace=True)"
   ]
  },
  {
   "cell_type": "code",
   "execution_count": 88,
   "metadata": {},
   "outputs": [],
   "source": [
    "# Group highest kills\n",
    "df1 = df_all[['groupId', 'kills']]\n",
    "df2 = df1.groupby(['groupId'], as_index=False).agg({'kills':'max'})\n",
    "df2.rename(columns={'kills':'gp_highest_kill'}, inplace=True)\n",
    "bins = [0, 5, 10, 15, float(\"inf\")]\n",
    "labels = [\"A\", \"B\", \"C\", \"D\"]\n",
    "out = pd.cut(df2.gp_highest_kill, bins, labels=labels, include_lowest=True)\n",
    "df2.rename(columns={'gp_highest_kill':'gp_highest_kill1'}, inplace=True)\n",
    "gf7 = pd.concat([df2, out], axis=1)\n",
    "gf7.drop(['gp_highest_kill1'], axis=1, inplace=True)"
   ]
  },
  {
   "cell_type": "code",
   "execution_count": 89,
   "metadata": {},
   "outputs": [],
   "source": [
    "# Group lowest kills\n",
    "df1 = df_all[['groupId', 'kills']]\n",
    "df2 = df1.groupby(['groupId'], as_index=False).agg({'kills':'min'})\n",
    "df2.rename(columns={'kills':'gp_lowest_kill'}, inplace=True)\n",
    "bins = [0, 5, 10, 15, float(\"inf\")]\n",
    "labels = [\"A\", \"B\", \"C\", \"D\"]\n",
    "out = pd.cut(df2.gp_lowest_kill, bins, labels=labels, include_lowest=True)\n",
    "df2.rename(columns={'gp_lowest_kill':'gp_lowest_kill1'}, inplace=True)\n",
    "gf8 = pd.concat([df2, out], axis=1)\n",
    "gf8.drop(['gp_lowest_kill1'], axis=1, inplace=True)"
   ]
  },
  {
   "cell_type": "code",
   "execution_count": 90,
   "metadata": {},
   "outputs": [],
   "source": [
    "# Group headshot ratio\n",
    "df1 = df_all[['groupId', 'headshotKills', 'kills']]\n",
    "df2 = df1.groupby(['groupId'], as_index=False).agg({'headshotKills':'sum', 'kills':'sum'})\n",
    "df2.loc[:,'headshot_ratio'] = df2.headshotKills / df2.kills\n",
    "df2.fillna(0, inplace=True)\n",
    "df2.drop(['headshotKills', 'kills'], axis=1, inplace=True)\n",
    "gf9 = df2"
   ]
  },
  {
   "cell_type": "code",
   "execution_count": 91,
   "metadata": {},
   "outputs": [],
   "source": [
    "# Merge group features\n",
    "features = [gf1, gf2, gf3, gf4, gf5, gf6, gf7, gf8, gf9]\n",
    "group_features = df_all.groupId.to_frame()\n",
    "group_features.drop_duplicates(inplace=True)\n",
    "for ft in features:\n",
    "    group_features = pd.merge(group_features, ft, on='groupId')"
   ]
  },
  {
   "cell_type": "code",
   "execution_count": 92,
   "metadata": {},
   "outputs": [],
   "source": [
    "## Processing original data\n",
    "# [1]\n",
    "bins = [0, 500, 800, 1000, 1500, 2000, float(\"inf\")]\n",
    "labels = [\"A\", \"B\", \"C\", \"D\", \"E\", \"F\"]\n",
    "out = pd.cut(df_all.damageDealt, bins, labels=labels, include_lowest=True)\n",
    "df_all.rename(columns={'damageDealt':'damageDealt1'}, inplace=True)\n",
    "df_all = pd.concat([df_all, out], axis=1)\n",
    "df_all.drop(['damageDealt1'], axis=1, inplace=True)"
   ]
  },
  {
   "cell_type": "code",
   "execution_count": 93,
   "metadata": {},
   "outputs": [
    {
     "data": {
      "image/png": "[encoded data removed]",
      "text/plain": [
       "<Figure size 432x288 with 1 Axes>"
      ]
     },
     "metadata": {},
     "output_type": "display_data"
    }
   ],
   "source": [
    "# [2]\n",
    "sns.distplot(df_all.killPoints, kde=False)\n",
    "plt.show()\n",
    "\n",
    "bins = [0, 200, 500, 1000, 1500, 1800, 2000, float(\"inf\")]\n",
    "labels = [\"A\", \"B\", \"C\", \"D\", \"E\", \"F\", \"G\"]\n",
    "out = pd.cut(df_all.killPoints, bins, labels=labels, include_lowest=True)\n",
    "df_all.rename(columns={'killPoints':'killPoints1'}, inplace=True)\n",
    "df_all = pd.concat([df_all, out], axis=1)\n",
    "df_all.drop(['killPoints1'], axis=1, inplace=True)"
   ]
  },
  {
   "cell_type": "code",
   "execution_count": 94,
   "metadata": {},
   "outputs": [
    {
     "data": {
      "image/png": "[encoded data removed]",
      "text/plain": [
       "<Figure size 432x288 with 1 Axes>"
      ]
     },
     "metadata": {},
     "output_type": "display_data"
    }
   ],
   "source": [
    "# [3]\n",
    "sns.distplot(df_all.longestKill, kde=False)\n",
    "plt.show()\n",
    "bins = [0, 200, 500, 800, 1000, float(\"inf\")]\n",
    "labels = [\"A\", \"B\", \"C\", \"D\", \"E\"]\n",
    "out = pd.cut(df_all.longestKill, bins, labels=labels, include_lowest=True)\n",
    "df_all.rename(columns={'longestKill':'longestKill1'}, inplace=True)\n",
    "df_all = pd.concat([df_all, out], axis=1)\n",
    "df_all.drop(['longestKill1'], axis=1, inplace=True)\n"
   ]
  },
  {
   "cell_type": "code",
   "execution_count": 95,
   "metadata": {},
   "outputs": [
    {
     "data": {
      "image/png": "[encoded data removed]",
      "text/plain": [
       "<Figure size 432x288 with 1 Axes>"
      ]
     },
     "metadata": {},
     "output_type": "display_data"
    }
   ],
   "source": [
    "# [4]\n",
    "sns.distplot(df_all.matchDuration, kde=False)\n",
    "plt.show()\n",
    "bins = [0, 1000, 1500, 2000, float(\"inf\")]\n",
    "labels = [\"A\", \"B\", \"C\", \"D\"]\n",
    "out = pd.cut(df_all.matchDuration, bins, labels=labels, include_lowest=True)\n",
    "df_all.rename(columns={'matchDuration':'matchDuration1'}, inplace=True)\n",
    "df_all = pd.concat([df_all, out], axis=1)\n",
    "df_all.drop(['matchDuration1'], axis=1, inplace=True)"
   ]
  },
  {
   "cell_type": "code",
   "execution_count": 96,
   "metadata": {},
   "outputs": [
    {
     "data": {
      "image/png": "[encoded data removed]",
      "text/plain": [
       "<Figure size 432x288 with 1 Axes>"
      ]
     },
     "metadata": {},
     "output_type": "display_data"
    }
   ],
   "source": [
    "# [5]\n",
    "sns.distplot(df_all.maxPlace, kde=False)\n",
    "plt.show()\n",
    "bins = [0, 10, 30, 50, float(\"inf\")]\n",
    "labels = [\"A\", \"B\", \"C\", \"D\"]\n",
    "out = pd.cut(df_all.maxPlace, bins, labels=labels, include_lowest=True)\n",
    "df_all.rename(columns={'maxPlace':'maxPlace1'}, inplace=True)\n",
    "df_all = pd.concat([df_all, out], axis=1)\n",
    "df_all.drop(['maxPlace1'], axis=1, inplace=True)"
   ]
  },
  {
   "cell_type": "code",
   "execution_count": 97,
   "metadata": {},
   "outputs": [],
   "source": [
    "# [6]\n",
    "bins = [0, 25, 50, 100]\n",
    "labels = [\"A\", \"B\", \"C\"]\n",
    "out = pd.cut(df_all.numGroups, bins, labels=labels, include_lowest=True)\n",
    "df_all.rename(columns={'numGroups':'numGroups1'}, inplace=True)\n",
    "df_all = pd.concat([df_all, out], axis=1)\n",
    "df_all.drop(['numGroups1'], axis=1, inplace=True)"
   ]
  },
  {
   "cell_type": "code",
   "execution_count": 98,
   "metadata": {},
   "outputs": [],
   "source": [
    "# [7]\n",
    "bins = [-1, 0, 1000, 2000, 3000, 4000, 5000, float(\"inf\")]\n",
    "labels = [\"N\", \"A\", \"B\", \"C\", \"D\", \"E\", \"F\"]\n",
    "out = pd.cut(df_all.rankPoints, bins, labels=labels, include_lowest=True)\n",
    "df_all.rename(columns={'rankPoints':'rankPoints1'}, inplace=True)\n",
    "df_all = pd.concat([df_all, out], axis=1)\n",
    "df_all.drop(['rankPoints1'], axis=1, inplace=True)"
   ]
  },
  {
   "cell_type": "code",
   "execution_count": 99,
   "metadata": {
    "_uuid": "fad150074e0412286228dd763241cfe9e9b4e127"
   },
   "outputs": [],
   "source": [
    "## Merge person features to original data\n",
    "df = pd.merge(df_all, person_features, on='Id')\n",
    "\n",
    "## Merge group features to original data\n",
    "df = pd.merge(df, group_features, on='groupId')\n",
    "\n",
    "test_id = df[-len(test):].Id.values\n",
    "df.drop(['Id', 'groupId', 'matchId'], 1, inplace=True)\n",
    "\n",
    "for index, value in df.dtypes.iteritems():\n",
    "    if str(value) in ['object', 'category']:\n",
    "        # One-hot encode for character feature\n",
    "        dummy_features = pd.get_dummies(df[index], prefix=index)\n",
    "        for dummy in dummy_features:\n",
    "            df[dummy] = dummy_features[dummy]\n",
    "        df.drop([index], 1, inplace=True)\n",
    "        \n",
    "yTrain = np.array(train.winPlacePerc)\n",
    "\n",
    "# Normalize numberic value\n",
    "for index, value in df.dtypes.iteritems():\n",
    "    minValue = df[index].min()\n",
    "    maxValue = df[index].max()\n",
    "    df[index] = df[index].apply(lambda x:(x - minValue) / (maxValue - minValue) if maxValue != minValue else 0)    "
   ]
  },
  {
   "cell_type": "code",
   "execution_count": 100,
   "metadata": {
    "_uuid": "6f8fc024f88b7c46406ffce3b325df4a2d9c1389"
   },
   "outputs": [],
   "source": [
    "# Split train/test\n",
    "train = df[:-len(test)]\n",
    "test = df[-len(test):] "
   ]
  },
  {
   "cell_type": "code",
   "execution_count": 101,
   "metadata": {
    "_uuid": "f90b40bc8939479df23c619c8d278113609c6b60"
   },
   "outputs": [
    {
     "name": "stdout",
     "output_type": "stream",
     "text": [
      "[0]\ttrain-rmse:0.308208\n",
      "Will train until train-rmse hasn't improved in 50 rounds.\n",
      "[1]\ttrain-rmse:0.307932\n",
      "[2]\ttrain-rmse:0.307722\n",
      "[3]\ttrain-rmse:0.307547\n",
      "[4]\ttrain-rmse:0.307377\n",
      "[5]\ttrain-rmse:0.307272\n",
      "[6]\ttrain-rmse:0.307162\n",
      "[7]\ttrain-rmse:0.307098\n",
      "[8]\ttrain-rmse:0.30704\n",
      "[9]\ttrain-rmse:0.306976\n",
      "[10]\ttrain-rmse:0.306884\n",
      "[11]\ttrain-rmse:0.306839\n",
      "[12]\ttrain-rmse:0.306809\n",
      "[13]\ttrain-rmse:0.306755\n",
      "[14]\ttrain-rmse:0.306731\n",
      "[15]\ttrain-rmse:0.306682\n",
      "[16]\ttrain-rmse:0.306626\n",
      "[17]\ttrain-rmse:0.306592\n",
      "[18]\ttrain-rmse:0.306557\n",
      "[19]\ttrain-rmse:0.306491\n",
      "[20]\ttrain-rmse:0.306435\n",
      "[21]\ttrain-rmse:0.306345\n",
      "[22]\ttrain-rmse:0.306297\n",
      "[23]\ttrain-rmse:0.306266\n",
      "[24]\ttrain-rmse:0.306225\n",
      "[25]\ttrain-rmse:0.30618\n",
      "[26]\ttrain-rmse:0.306136\n",
      "[27]\ttrain-rmse:0.306061\n",
      "[28]\ttrain-rmse:0.306008\n",
      "[29]\ttrain-rmse:0.305954\n",
      "[30]\ttrain-rmse:0.305903\n",
      "[31]\ttrain-rmse:0.305847\n",
      "[32]\ttrain-rmse:0.305763\n",
      "[33]\ttrain-rmse:0.305724\n",
      "[34]\ttrain-rmse:0.305647\n",
      "[35]\ttrain-rmse:0.305614\n",
      "[36]\ttrain-rmse:0.305565\n",
      "[37]\ttrain-rmse:0.305535\n",
      "[38]\ttrain-rmse:0.305499\n",
      "[39]\ttrain-rmse:0.305438\n",
      "[40]\ttrain-rmse:0.305361\n",
      "[41]\ttrain-rmse:0.305316\n",
      "[42]\ttrain-rmse:0.305257\n",
      "[43]\ttrain-rmse:0.305244\n",
      "[44]\ttrain-rmse:0.30519\n",
      "[45]\ttrain-rmse:0.305141\n",
      "[46]\ttrain-rmse:0.30508\n",
      "[47]\ttrain-rmse:0.305011\n",
      "[48]\ttrain-rmse:0.304955\n",
      "[49]\ttrain-rmse:0.304918\n",
      "[50]\ttrain-rmse:0.304865\n",
      "[51]\ttrain-rmse:0.304817\n",
      "[52]\ttrain-rmse:0.304783\n",
      "[53]\ttrain-rmse:0.30476\n",
      "[54]\ttrain-rmse:0.304688\n",
      "[55]\ttrain-rmse:0.304604\n",
      "[56]\ttrain-rmse:0.304553\n",
      "[57]\ttrain-rmse:0.304467\n",
      "[58]\ttrain-rmse:0.30441\n",
      "[59]\ttrain-rmse:0.304381\n",
      "[60]\ttrain-rmse:0.304339\n",
      "[61]\ttrain-rmse:0.304278\n",
      "[62]\ttrain-rmse:0.304241\n",
      "[63]\ttrain-rmse:0.304151\n",
      "[64]\ttrain-rmse:0.304115\n",
      "[65]\ttrain-rmse:0.304062\n",
      "[66]\ttrain-rmse:0.304004\n",
      "[67]\ttrain-rmse:0.303954\n",
      "[68]\ttrain-rmse:0.303889\n",
      "[69]\ttrain-rmse:0.303863\n",
      "[70]\ttrain-rmse:0.303797\n",
      "[71]\ttrain-rmse:0.303747\n",
      "[72]\ttrain-rmse:0.303699\n",
      "[73]\ttrain-rmse:0.303643\n",
      "[74]\ttrain-rmse:0.303592\n",
      "[75]\ttrain-rmse:0.303508\n",
      "[76]\ttrain-rmse:0.303426\n",
      "[77]\ttrain-rmse:0.303377\n",
      "[78]\ttrain-rmse:0.303318\n",
      "[79]\ttrain-rmse:0.303258\n",
      "[80]\ttrain-rmse:0.303183\n",
      "[81]\ttrain-rmse:0.303108\n",
      "[82]\ttrain-rmse:0.303065\n",
      "[83]\ttrain-rmse:0.302994\n",
      "[84]\ttrain-rmse:0.302941\n",
      "[85]\ttrain-rmse:0.302877\n",
      "[86]\ttrain-rmse:0.302816\n",
      "[87]\ttrain-rmse:0.302768\n",
      "[88]\ttrain-rmse:0.302723\n",
      "[89]\ttrain-rmse:0.302641\n",
      "[90]\ttrain-rmse:0.302586\n",
      "[91]\ttrain-rmse:0.302528\n",
      "[92]\ttrain-rmse:0.302485\n",
      "[93]\ttrain-rmse:0.302418\n",
      "[94]\ttrain-rmse:0.302346\n",
      "[95]\ttrain-rmse:0.30231\n",
      "[96]\ttrain-rmse:0.302258\n",
      "[97]\ttrain-rmse:0.302205\n",
      "[98]\ttrain-rmse:0.302147\n",
      "[99]\ttrain-rmse:0.302075\n",
      "[100]\ttrain-rmse:0.302028\n",
      "[101]\ttrain-rmse:0.30197\n",
      "[102]\ttrain-rmse:0.301905\n",
      "[103]\ttrain-rmse:0.301849\n",
      "[104]\ttrain-rmse:0.301791\n",
      "[105]\ttrain-rmse:0.301736\n",
      "[106]\ttrain-rmse:0.301691\n",
      "[107]\ttrain-rmse:0.301625\n",
      "[108]\ttrain-rmse:0.301533\n",
      "[109]\ttrain-rmse:0.30146\n",
      "[110]\ttrain-rmse:0.301398\n",
      "[111]\ttrain-rmse:0.301343\n",
      "[112]\ttrain-rmse:0.30128\n",
      "[113]\ttrain-rmse:0.301237\n",
      "[114]\ttrain-rmse:0.301161\n",
      "[115]\ttrain-rmse:0.30112\n",
      "[116]\ttrain-rmse:0.301051\n",
      "[117]\ttrain-rmse:0.300983\n",
      "[118]\ttrain-rmse:0.300937\n",
      "[119]\ttrain-rmse:0.300905\n",
      "[120]\ttrain-rmse:0.30086\n",
      "[121]\ttrain-rmse:0.300806\n",
      "[122]\ttrain-rmse:0.300739\n",
      "[123]\ttrain-rmse:0.300676\n",
      "[124]\ttrain-rmse:0.300586\n",
      "[125]\ttrain-rmse:0.300512\n",
      "[126]\ttrain-rmse:0.300458\n",
      "[127]\ttrain-rmse:0.300403\n",
      "[128]\ttrain-rmse:0.300345\n",
      "[129]\ttrain-rmse:0.300275\n",
      "[130]\ttrain-rmse:0.300178\n",
      "[131]\ttrain-rmse:0.300107\n",
      "[132]\ttrain-rmse:0.300039\n",
      "[133]\ttrain-rmse:0.300003\n",
      "[134]\ttrain-rmse:0.299927\n",
      "[135]\ttrain-rmse:0.299862\n",
      "[136]\ttrain-rmse:0.299807\n",
      "[137]\ttrain-rmse:0.299762\n",
      "[138]\ttrain-rmse:0.299733\n",
      "[139]\ttrain-rmse:0.299685\n",
      "[140]\ttrain-rmse:0.299626\n",
      "[141]\ttrain-rmse:0.299576\n",
      "[142]\ttrain-rmse:0.299523\n",
      "[143]\ttrain-rmse:0.29947\n",
      "[144]\ttrain-rmse:0.299435\n",
      "[145]\ttrain-rmse:0.299405\n",
      "[146]\ttrain-rmse:0.299329\n",
      "[147]\ttrain-rmse:0.299269\n",
      "[148]\ttrain-rmse:0.299205\n",
      "[149]\ttrain-rmse:0.299158\n",
      "[150]\ttrain-rmse:0.299112\n",
      "[151]\ttrain-rmse:0.299041\n",
      "[152]\ttrain-rmse:0.298983\n",
      "[153]\ttrain-rmse:0.298929\n",
      "[154]\ttrain-rmse:0.298866\n",
      "[155]\ttrain-rmse:0.298794\n",
      "[156]\ttrain-rmse:0.29871\n",
      "[157]\ttrain-rmse:0.298641\n",
      "[158]\ttrain-rmse:0.298604\n",
      "[159]\ttrain-rmse:0.298579\n",
      "[160]\ttrain-rmse:0.298525\n",
      "[161]\ttrain-rmse:0.298438\n",
      "[162]\ttrain-rmse:0.298377\n",
      "[163]\ttrain-rmse:0.298314\n",
      "[164]\ttrain-rmse:0.298254\n",
      "[165]\ttrain-rmse:0.298177\n",
      "[166]\ttrain-rmse:0.298118\n",
      "[167]\ttrain-rmse:0.298072\n",
      "[168]\ttrain-rmse:0.298011\n",
      "[169]\ttrain-rmse:0.297972\n",
      "[170]\ttrain-rmse:0.297929\n",
      "[171]\ttrain-rmse:0.297877\n",
      "[172]\ttrain-rmse:0.297815\n",
      "[173]\ttrain-rmse:0.297782\n",
      "[174]\ttrain-rmse:0.29772\n",
      "[175]\ttrain-rmse:0.297673\n",
      "[176]\ttrain-rmse:0.297596\n",
      "[177]\ttrain-rmse:0.297537\n",
      "[178]\ttrain-rmse:0.297461\n",
      "[179]\ttrain-rmse:0.297411\n",
      "[180]\ttrain-rmse:0.297359\n",
      "[181]\ttrain-rmse:0.297301\n",
      "[182]\ttrain-rmse:0.297265\n",
      "[183]\ttrain-rmse:0.29723\n",
      "[184]\ttrain-rmse:0.297154\n",
      "[185]\ttrain-rmse:0.29708\n",
      "[186]\ttrain-rmse:0.297028\n",
      "[187]\ttrain-rmse:0.29698\n",
      "[188]\ttrain-rmse:0.29694\n",
      "[189]\ttrain-rmse:0.296887\n",
      "[190]\ttrain-rmse:0.296827\n",
      "[191]\ttrain-rmse:0.29675\n",
      "[192]\ttrain-rmse:0.296705\n",
      "[193]\ttrain-rmse:0.296646\n",
      "[194]\ttrain-rmse:0.296575\n",
      "[195]\ttrain-rmse:0.296526\n",
      "[196]\ttrain-rmse:0.296463\n",
      "[197]\ttrain-rmse:0.296387\n",
      "[198]\ttrain-rmse:0.296329\n",
      "[199]\ttrain-rmse:0.296271\n",
      "[200]\ttrain-rmse:0.296215\n",
      "[201]\ttrain-rmse:0.296166\n",
      "[202]\ttrain-rmse:0.296099\n",
      "[203]\ttrain-rmse:0.296047\n",
      "[204]\ttrain-rmse:0.295998\n",
      "[205]\ttrain-rmse:0.295948\n",
      "[206]\ttrain-rmse:0.295893\n",
      "[207]\ttrain-rmse:0.295826\n",
      "[208]\ttrain-rmse:0.295767\n",
      "[209]\ttrain-rmse:0.295721\n",
      "[210]\ttrain-rmse:0.295675\n",
      "[211]\ttrain-rmse:0.295625\n",
      "[212]\ttrain-rmse:0.295558\n",
      "[213]\ttrain-rmse:0.295495\n",
      "[214]\ttrain-rmse:0.29542\n",
      "[215]\ttrain-rmse:0.295347\n",
      "[216]\ttrain-rmse:0.295289\n",
      "[217]\ttrain-rmse:0.295221\n",
      "[218]\ttrain-rmse:0.295135\n",
      "[219]\ttrain-rmse:0.295046\n",
      "[220]\ttrain-rmse:0.294983\n",
      "[221]\ttrain-rmse:0.294931\n",
      "[222]\ttrain-rmse:0.294863\n",
      "[223]\ttrain-rmse:0.294802\n",
      "[224]\ttrain-rmse:0.294739\n",
      "[225]\ttrain-rmse:0.294686\n",
      "[226]\ttrain-rmse:0.294615\n",
      "[227]\ttrain-rmse:0.294534\n",
      "[228]\ttrain-rmse:0.294504\n",
      "[229]\ttrain-rmse:0.294441\n",
      "[230]\ttrain-rmse:0.294367\n",
      "[231]\ttrain-rmse:0.294323\n",
      "[232]\ttrain-rmse:0.294271\n",
      "[233]\ttrain-rmse:0.2942\n",
      "[234]\ttrain-rmse:0.29414\n",
      "[235]\ttrain-rmse:0.294061\n",
      "[236]\ttrain-rmse:0.293989\n",
      "[237]\ttrain-rmse:0.293941\n",
      "[238]\ttrain-rmse:0.293882\n",
      "[239]\ttrain-rmse:0.293832\n",
      "[240]\ttrain-rmse:0.29377\n",
      "[241]\ttrain-rmse:0.293727\n",
      "[242]\ttrain-rmse:0.293673\n",
      "[243]\ttrain-rmse:0.293594\n",
      "[244]\ttrain-rmse:0.293563\n",
      "[245]\ttrain-rmse:0.2935\n",
      "[246]\ttrain-rmse:0.293428\n",
      "[247]\ttrain-rmse:0.293363\n",
      "[248]\ttrain-rmse:0.293297\n",
      "[249]\ttrain-rmse:0.293246\n",
      "[250]\ttrain-rmse:0.293196\n",
      "[251]\ttrain-rmse:0.29313\n",
      "[252]\ttrain-rmse:0.293075\n",
      "[253]\ttrain-rmse:0.293032\n",
      "[254]\ttrain-rmse:0.29295\n",
      "[255]\ttrain-rmse:0.292891\n",
      "[256]\ttrain-rmse:0.292835\n",
      "[257]\ttrain-rmse:0.292777\n",
      "[258]\ttrain-rmse:0.292694\n",
      "[259]\ttrain-rmse:0.292637\n",
      "[260]\ttrain-rmse:0.292584\n",
      "[261]\ttrain-rmse:0.292517\n",
      "[262]\ttrain-rmse:0.29247\n",
      "[263]\ttrain-rmse:0.292418\n",
      "[264]\ttrain-rmse:0.292354\n",
      "[265]\ttrain-rmse:0.292327\n",
      "[266]\ttrain-rmse:0.292256\n",
      "[267]\ttrain-rmse:0.29218\n",
      "[268]\ttrain-rmse:0.292124\n",
      "[269]\ttrain-rmse:0.292054\n",
      "[270]\ttrain-rmse:0.291999\n",
      "[271]\ttrain-rmse:0.291948\n",
      "[272]\ttrain-rmse:0.291875\n",
      "[273]\ttrain-rmse:0.291812\n",
      "[274]\ttrain-rmse:0.291761\n",
      "[275]\ttrain-rmse:0.291722\n",
      "[276]\ttrain-rmse:0.291652\n",
      "[277]\ttrain-rmse:0.291592\n",
      "[278]\ttrain-rmse:0.291531\n",
      "[279]\ttrain-rmse:0.291484\n",
      "[280]\ttrain-rmse:0.291401\n",
      "[281]\ttrain-rmse:0.291339\n",
      "[282]\ttrain-rmse:0.291268\n",
      "[283]\ttrain-rmse:0.291194\n",
      "[284]\ttrain-rmse:0.291127\n",
      "[285]\ttrain-rmse:0.291064\n",
      "[286]\ttrain-rmse:0.290978\n",
      "[287]\ttrain-rmse:0.290956\n",
      "[288]\ttrain-rmse:0.290882\n",
      "[289]\ttrain-rmse:0.290814\n",
      "[290]\ttrain-rmse:0.290743\n",
      "[291]\ttrain-rmse:0.290667\n",
      "[292]\ttrain-rmse:0.290607\n",
      "[293]\ttrain-rmse:0.290545\n",
      "[294]\ttrain-rmse:0.290474\n",
      "[295]\ttrain-rmse:0.290401\n",
      "[296]\ttrain-rmse:0.290356\n",
      "[297]\ttrain-rmse:0.290306\n",
      "[298]\ttrain-rmse:0.290239\n",
      "[299]\ttrain-rmse:0.290163\n"
     ]
    }
   ],
   "source": [
    "# Modeling:xgboost\n",
    "train.drop(['winPlacePerc'], 1, inplace=True)\n",
    "test.drop(['winPlacePerc'], 1, inplace=True)\n",
    "\n",
    "num_trees = 300\n",
    "params = {\"objective\": \"reg:linear\",\n",
    "          \"eta\": 0.15,\n",
    "          \"max_depth\": 12,\n",
    "          \"subsample\": 0.7,\n",
    "          \"colsample_bytree\": 0.7,\n",
    "          \"silent\": 1,\n",
    "          \"nthread\": 2\n",
    "          }\n",
    "\n",
    "dtrain = xgb.DMatrix(train, label=yTrain)\n",
    "dtest = xgb.DMatrix(test)\n",
    "watchlist = [(dtrain, 'train')]\n",
    "\n",
    "gbm = xgb.train(params, dtrain, num_trees, evals=watchlist, early_stopping_rounds=50, verbose_eval=True)\n",
    "\n",
    "yhat = gbm.predict(dtest)"
   ]
  },
  {
   "cell_type": "code",
   "execution_count": 102,
   "metadata": {
    "_uuid": "e77cd259839c6691f687f173b86fbf851ae4d799"
   },
   "outputs": [
    {
     "name": "stdout",
     "output_type": "stream",
     "text": [
      "Generated submission file!\n"
     ]
    }
   ],
   "source": [
    "# Save result\n",
    "arr = np.vstack((test_id, yhat))\n",
    "arr = arr.T\n",
    "df_final = pd.DataFrame(arr, columns=['Id', 'winPlacePerc'])\n",
    "df_final.to_csv(\"submission.csv\", index=False)\n",
    "print(\"Generated submission file!\")"
   ]
  }
 ],
 "metadata": {
  "kernelspec": {
   "display_name": "Python [conda env:Anaconda3]",
   "language": "python",
   "name": "conda-env-Anaconda3-py"
  },
  "language_info": {
   "codemirror_mode": {
    "name": "ipython",
    "version": 3
   },
   "file_extension": ".py",
   "mimetype": "text/x-python",
   "name": "python",
   "nbconvert_exporter": "python",
   "pygments_lexer": "ipython3",
   "version": "3.6.5"
  }
 },
 "nbformat": 4,
 "nbformat_minor": 1
}
