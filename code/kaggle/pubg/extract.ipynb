{
 "cells": [
  {
   "cell_type": "code",
   "execution_count": 10,
   "metadata": {
    "_cell_guid": "b1076dfc-b9ad-4769-8c92-a6c4dae69d19",
    "_uuid": "8f2839f25d086af736a60e9eeb907d3b93b6e0e5"
   },
   "outputs": [],
   "source": [
    "# This Python 3 environment comes with many helpful analytics libraries installed\n",
    "# It is defined by the kaggle/python docker image: https://github.com/kaggle/docker-python\n",
    "# For example, here's several helpful packages to load in \n",
    "\n",
    "import numpy as np # linear algebra\n",
    "import pandas as pd # data processing, CSV file I/O (e.g. pd.read_csv)\n",
    "pd.set_option(\"display.max_columns\", None)\n",
    "import xgboost as xgb\n",
    "import matplotlib.pyplot as plt\n",
    "import seaborn as sns\n",
    "import warnings\n",
    "warnings.filterwarnings(\"ignore\")\n",
    "%matplotlib inline"
   ]
  },
  {
   "cell_type": "code",
   "execution_count": 2,
   "metadata": {
    "_cell_guid": "79c7e3d0-c299-4dcb-8224-4455121ee9b0",
    "_uuid": "d629ff2d2480ee46fbb7e2d37f6b5fab8052498a"
   },
   "outputs": [],
   "source": [
    "train = pd.read_csv(\"C:\\\\scnguh\\\\datamining\\\\pubg\\\\all\\\\train_V2.csv\")\n",
    "test = pd.read_csv(\"C:\\\\scnguh\\\\datamining\\\\pubg\\\\all\\\\test_V2.csv\")"
   ]
  },
  {
   "cell_type": "code",
   "execution_count": 3,
   "metadata": {
    "_uuid": "1d619f0f7654eba970f8f3636249576a04143b12"
   },
   "outputs": [],
   "source": [
    "# killPlace\n",
    "train = train[train.killPlace <= 100]\n",
    "# winPlacePerc should not be null\n",
    "train = train[train.winPlacePerc >= 0 ]"
   ]
  },
  {
   "cell_type": "code",
   "execution_count": 103,
   "metadata": {
    "_uuid": "388b187dd2df77c006718a5f6f0a2967377d06f5"
   },
   "outputs": [],
   "source": [
    "df_all = pd.concat([train, test])"
   ]
  },
  {
   "cell_type": "code",
   "execution_count": 5,
   "metadata": {
    "_uuid": "8b7b28b5e136b39aa10c472000b79c15edf01450"
   },
   "outputs": [
    {
     "name": "stderr",
     "output_type": "stream",
     "text": [
      "C:\\ProgramData\\Anaconda3\\lib\\site-packages\\pandas\\core\\frame.py:3787: SettingWithCopyWarning: \n",
      "A value is trying to be set on a copy of a slice from a DataFrame\n",
      "\n",
      "See the caveats in the documentation: http://pandas.pydata.org/pandas-docs/stable/indexing.html#indexing-view-versus-copy\n",
      "  downcast=downcast, **kwargs)\n"
     ]
    }
   ],
   "source": [
    "## Feature project, part1 Personal features\n",
    "\n",
    "# DBNOs ratio in whole team\n",
    "df1 = df_all.groupby(['groupId'], as_index=False).agg({'DBNOs':'sum'})\n",
    "df1.reset_index(inplace=True, drop=True)\n",
    "df1.rename(columns={'DBNOs':'DBNOs_team'}, inplace=True)\n",
    "df2 = pd.merge(df_all, df1, on='groupId', how='left')\n",
    "df2 = df2[['Id', 'DBNOs', 'DBNOs_team']]\n",
    "df2.loc[:, 'DBNOs_ratio'] = df2.DBNOs / df2.DBNOs_team\n",
    "feature1 = df2[['Id', 'DBNOs_ratio']]\n",
    "feature1.fillna(0, inplace=True)"
   ]
  },
  {
   "cell_type": "code",
   "execution_count": 6,
   "metadata": {
    "_kg_hide-output": false,
    "_uuid": "f8deed156aa3ab05cf7063c1175f6b273534d7a3"
   },
   "outputs": [
    {
     "name": "stderr",
     "output_type": "stream",
     "text": [
      "C:\\ProgramData\\Anaconda3\\lib\\site-packages\\pandas\\core\\frame.py:3787: SettingWithCopyWarning: \n",
      "A value is trying to be set on a copy of a slice from a DataFrame\n",
      "\n",
      "See the caveats in the documentation: http://pandas.pydata.org/pandas-docs/stable/indexing.html#indexing-view-versus-copy\n",
      "  downcast=downcast, **kwargs)\n"
     ]
    }
   ],
   "source": [
    "# Assists ratio in whole team\n",
    "df1 = df_all.groupby(['groupId'], as_index=False).agg({'assists':'sum'})\n",
    "df1.reset_index(inplace=True, drop=True)\n",
    "df1.rename(columns={'assists':'assists_team'}, inplace=True)\n",
    "df2 = pd.merge(df_all, df1, on='groupId', how='left')\n",
    "df2 = df2[['Id', 'assists', 'assists_team']]\n",
    "df2.loc[:, 'assists_ratio'] = df2.assists / df2.assists_team\n",
    "feature2 = df2[['Id', 'assists_ratio']]\n",
    "feature2.fillna(0, inplace=True)"
   ]
  },
  {
   "cell_type": "code",
   "execution_count": 7,
   "metadata": {
    "_uuid": "a1b0f6c34ea065c18749e6686adbf4e593e3c6f4"
   },
   "outputs": [
    {
     "name": "stderr",
     "output_type": "stream",
     "text": [
      "C:\\ProgramData\\Anaconda3\\lib\\site-packages\\pandas\\core\\frame.py:3787: SettingWithCopyWarning: \n",
      "A value is trying to be set on a copy of a slice from a DataFrame\n",
      "\n",
      "See the caveats in the documentation: http://pandas.pydata.org/pandas-docs/stable/indexing.html#indexing-view-versus-copy\n",
      "  downcast=downcast, **kwargs)\n"
     ]
    }
   ],
   "source": [
    "# Damage ratio in whole team\n",
    "df1 = df_all.groupby(['groupId'], as_index=False).agg({'damageDealt':'sum'})\n",
    "df1.reset_index(inplace=True, drop=True)\n",
    "df1.rename(columns={'damageDealt':'damageDealt_team'}, inplace=True)\n",
    "df2 = pd.merge(df_all, df1, on='groupId', how='left')\n",
    "df2 = df2[['Id', 'damageDealt', 'damageDealt_team']]\n",
    "df2.loc[:, 'damageDealt_ratio'] = df2.damageDealt / df2.damageDealt_team\n",
    "feature3 = df2[['Id', 'damageDealt_ratio']]\n",
    "feature3.fillna(0, inplace=True)"
   ]
  },
  {
   "cell_type": "code",
   "execution_count": 12,
   "metadata": {
    "_uuid": "4895be38699f01f687454c954a15f91fee0e1e16"
   },
   "outputs": [],
   "source": [
    "# Headshot ratio\n",
    "df1 = df_all[['Id', 'headshotKills', 'kills']]\n",
    "df1.loc[:,'headshot_ratio'] = df1.headshotKills / df1.kills\n",
    "feature4 = df1[['Id', 'headshot_ratio']]\n",
    "feature4.fillna(0, inplace=True)"
   ]
  },
  {
   "cell_type": "code",
   "execution_count": 11,
   "metadata": {
    "_uuid": "62d8827e153302336dd46ecaef943605496f16f6"
   },
   "outputs": [],
   "source": [
    "# Heals ratio in whole team\n",
    "df1 = df_all.groupby(['groupId'], as_index=False).agg({'heals':'sum'})\n",
    "df1.reset_index(inplace=True, drop=True)\n",
    "df1.rename(columns={'heals':'heals_team'}, inplace=True)\n",
    "df2 = pd.merge(df_all, df1, on='groupId', how='left')\n",
    "df2 = df2[['Id', 'heals', 'heals_team']]\n",
    "df2.loc[:, 'heals_ratio'] = df2.heals / df2.heals_team\n",
    "feature5 = df2[['Id', 'heals_ratio']]\n",
    "feature5.fillna(0, inplace=True)"
   ]
  },
  {
   "cell_type": "code",
   "execution_count": 13,
   "metadata": {
    "_uuid": "7ec156bafe019e70d58395cb0960304ba6614936"
   },
   "outputs": [],
   "source": [
    "# Rank delta\n",
    "df1 = df_all[['Id', 'killPlace', 'maxPlace']]\n",
    "df1.loc[:,'rank_delta'] = abs(df1.killPlace - df1.maxPlace)\n",
    "feature6 = df1[['Id', 'rank_delta']]"
   ]
  },
  {
   "cell_type": "code",
   "execution_count": 14,
   "metadata": {
    "_uuid": "9d90ca8c59638b8a0d7dc990ddd863298b7dc221"
   },
   "outputs": [],
   "source": [
    "# Is kill place top 10\n",
    "df1 = df_all[['Id', 'killPlace']]\n",
    "df2 = df1[df1.killPlace <= 10]\n",
    "df3 = df1[df1.killPlace > 10]\n",
    "df2.loc[:,'is_killplace_top10'] = 1\n",
    "df3.loc[:,'is_killplace_top10'] = 0\n",
    "df4 = pd.concat([df2, df3])\n",
    "feature7 = df4[['Id', 'is_killplace_top10']]"
   ]
  },
  {
   "cell_type": "code",
   "execution_count": 60,
   "metadata": {
    "_uuid": "521da32e75fccc78f09ba96dba6853b06f7ee864",
    "scrolled": true
   },
   "outputs": [
    {
     "ename": "KeyError",
     "evalue": "\"['rideDistance' 'swimDistance' 'walkDistance'] not in index\"",
     "output_type": "error",
     "traceback": [
      "\u001b[1;31m---------------------------------------------------------------------------\u001b[0m",
      "\u001b[1;31mKeyError\u001b[0m                                  Traceback (most recent call last)",
      "\u001b[1;32m<ipython-input-60-b4dd47db50e0>\u001b[0m in \u001b[0;36m<module>\u001b[1;34m()\u001b[0m\n\u001b[0;32m      1\u001b[0m \u001b[1;31m# Total moving distance\u001b[0m\u001b[1;33m\u001b[0m\u001b[1;33m\u001b[0m\u001b[0m\n\u001b[1;32m----> 2\u001b[1;33m \u001b[0mdf1\u001b[0m \u001b[1;33m=\u001b[0m \u001b[0mdf_all\u001b[0m\u001b[1;33m[\u001b[0m\u001b[1;33m[\u001b[0m\u001b[1;34m'Id'\u001b[0m\u001b[1;33m,\u001b[0m \u001b[1;34m'rideDistance'\u001b[0m\u001b[1;33m,\u001b[0m \u001b[1;34m'swimDistance'\u001b[0m\u001b[1;33m,\u001b[0m \u001b[1;34m'walkDistance'\u001b[0m\u001b[1;33m,\u001b[0m \u001b[1;34m'winPlacePerc'\u001b[0m\u001b[1;33m]\u001b[0m\u001b[1;33m]\u001b[0m\u001b[1;33m\u001b[0m\u001b[0m\n\u001b[0m\u001b[0;32m      3\u001b[0m \u001b[0mdf1\u001b[0m\u001b[1;33m.\u001b[0m\u001b[0mloc\u001b[0m\u001b[1;33m[\u001b[0m\u001b[1;33m:\u001b[0m\u001b[1;33m,\u001b[0m\u001b[1;34m'total_distance'\u001b[0m\u001b[1;33m]\u001b[0m \u001b[1;33m=\u001b[0m \u001b[0mdf1\u001b[0m\u001b[1;33m.\u001b[0m\u001b[0mrideDistance\u001b[0m \u001b[1;33m+\u001b[0m \u001b[0mdf1\u001b[0m\u001b[1;33m.\u001b[0m\u001b[0mswimDistance\u001b[0m \u001b[1;33m+\u001b[0m \u001b[0mdf1\u001b[0m\u001b[1;33m.\u001b[0m\u001b[0mwalkDistance\u001b[0m\u001b[1;33m\u001b[0m\u001b[0m\n\u001b[0;32m      4\u001b[0m \u001b[0mtemp1\u001b[0m \u001b[1;33m=\u001b[0m \u001b[0mdf1\u001b[0m\u001b[1;33m[\u001b[0m\u001b[0mdf1\u001b[0m\u001b[1;33m.\u001b[0m\u001b[0mwinPlacePerc\u001b[0m \u001b[1;33m>=\u001b[0m \u001b[1;36m0\u001b[0m\u001b[1;33m]\u001b[0m\u001b[1;33m[\u001b[0m\u001b[1;33m[\u001b[0m\u001b[1;34m'Id'\u001b[0m\u001b[1;33m,\u001b[0m \u001b[1;34m'total_distance'\u001b[0m\u001b[1;33m,\u001b[0m \u001b[1;34m'winPlacePerc'\u001b[0m\u001b[1;33m]\u001b[0m\u001b[1;33m]\u001b[0m\u001b[1;33m\u001b[0m\u001b[0m\n\u001b[0;32m      5\u001b[0m '''\n",
      "\u001b[1;32mC:\\ProgramData\\Anaconda3\\lib\\site-packages\\pandas\\core\\frame.py\u001b[0m in \u001b[0;36m__getitem__\u001b[1;34m(self, key)\u001b[0m\n\u001b[0;32m   2677\u001b[0m         \u001b[1;32mif\u001b[0m \u001b[0misinstance\u001b[0m\u001b[1;33m(\u001b[0m\u001b[0mkey\u001b[0m\u001b[1;33m,\u001b[0m \u001b[1;33m(\u001b[0m\u001b[0mSeries\u001b[0m\u001b[1;33m,\u001b[0m \u001b[0mnp\u001b[0m\u001b[1;33m.\u001b[0m\u001b[0mndarray\u001b[0m\u001b[1;33m,\u001b[0m \u001b[0mIndex\u001b[0m\u001b[1;33m,\u001b[0m \u001b[0mlist\u001b[0m\u001b[1;33m)\u001b[0m\u001b[1;33m)\u001b[0m\u001b[1;33m:\u001b[0m\u001b[1;33m\u001b[0m\u001b[0m\n\u001b[0;32m   2678\u001b[0m             \u001b[1;31m# either boolean or fancy integer index\u001b[0m\u001b[1;33m\u001b[0m\u001b[1;33m\u001b[0m\u001b[0m\n\u001b[1;32m-> 2679\u001b[1;33m             \u001b[1;32mreturn\u001b[0m \u001b[0mself\u001b[0m\u001b[1;33m.\u001b[0m\u001b[0m_getitem_array\u001b[0m\u001b[1;33m(\u001b[0m\u001b[0mkey\u001b[0m\u001b[1;33m)\u001b[0m\u001b[1;33m\u001b[0m\u001b[0m\n\u001b[0m\u001b[0;32m   2680\u001b[0m         \u001b[1;32melif\u001b[0m \u001b[0misinstance\u001b[0m\u001b[1;33m(\u001b[0m\u001b[0mkey\u001b[0m\u001b[1;33m,\u001b[0m \u001b[0mDataFrame\u001b[0m\u001b[1;33m)\u001b[0m\u001b[1;33m:\u001b[0m\u001b[1;33m\u001b[0m\u001b[0m\n\u001b[0;32m   2681\u001b[0m             \u001b[1;32mreturn\u001b[0m \u001b[0mself\u001b[0m\u001b[1;33m.\u001b[0m\u001b[0m_getitem_frame\u001b[0m\u001b[1;33m(\u001b[0m\u001b[0mkey\u001b[0m\u001b[1;33m)\u001b[0m\u001b[1;33m\u001b[0m\u001b[0m\n",
      "\u001b[1;32mC:\\ProgramData\\Anaconda3\\lib\\site-packages\\pandas\\core\\frame.py\u001b[0m in \u001b[0;36m_getitem_array\u001b[1;34m(self, key)\u001b[0m\n\u001b[0;32m   2721\u001b[0m             \u001b[1;32mreturn\u001b[0m \u001b[0mself\u001b[0m\u001b[1;33m.\u001b[0m\u001b[0m_take\u001b[0m\u001b[1;33m(\u001b[0m\u001b[0mindexer\u001b[0m\u001b[1;33m,\u001b[0m \u001b[0maxis\u001b[0m\u001b[1;33m=\u001b[0m\u001b[1;36m0\u001b[0m\u001b[1;33m)\u001b[0m\u001b[1;33m\u001b[0m\u001b[0m\n\u001b[0;32m   2722\u001b[0m         \u001b[1;32melse\u001b[0m\u001b[1;33m:\u001b[0m\u001b[1;33m\u001b[0m\u001b[0m\n\u001b[1;32m-> 2723\u001b[1;33m             \u001b[0mindexer\u001b[0m \u001b[1;33m=\u001b[0m \u001b[0mself\u001b[0m\u001b[1;33m.\u001b[0m\u001b[0mloc\u001b[0m\u001b[1;33m.\u001b[0m\u001b[0m_convert_to_indexer\u001b[0m\u001b[1;33m(\u001b[0m\u001b[0mkey\u001b[0m\u001b[1;33m,\u001b[0m \u001b[0maxis\u001b[0m\u001b[1;33m=\u001b[0m\u001b[1;36m1\u001b[0m\u001b[1;33m)\u001b[0m\u001b[1;33m\u001b[0m\u001b[0m\n\u001b[0m\u001b[0;32m   2724\u001b[0m             \u001b[1;32mreturn\u001b[0m \u001b[0mself\u001b[0m\u001b[1;33m.\u001b[0m\u001b[0m_take\u001b[0m\u001b[1;33m(\u001b[0m\u001b[0mindexer\u001b[0m\u001b[1;33m,\u001b[0m \u001b[0maxis\u001b[0m\u001b[1;33m=\u001b[0m\u001b[1;36m1\u001b[0m\u001b[1;33m)\u001b[0m\u001b[1;33m\u001b[0m\u001b[0m\n\u001b[0;32m   2725\u001b[0m \u001b[1;33m\u001b[0m\u001b[0m\n",
      "\u001b[1;32mC:\\ProgramData\\Anaconda3\\lib\\site-packages\\pandas\\core\\indexing.py\u001b[0m in \u001b[0;36m_convert_to_indexer\u001b[1;34m(self, obj, axis, is_setter)\u001b[0m\n\u001b[0;32m   1325\u001b[0m                 \u001b[1;32mif\u001b[0m \u001b[0mmask\u001b[0m\u001b[1;33m.\u001b[0m\u001b[0many\u001b[0m\u001b[1;33m(\u001b[0m\u001b[1;33m)\u001b[0m\u001b[1;33m:\u001b[0m\u001b[1;33m\u001b[0m\u001b[0m\n\u001b[0;32m   1326\u001b[0m                     raise KeyError('{mask} not in index'\n\u001b[1;32m-> 1327\u001b[1;33m                                    .format(mask=objarr[mask]))\n\u001b[0m\u001b[0;32m   1328\u001b[0m \u001b[1;33m\u001b[0m\u001b[0m\n\u001b[0;32m   1329\u001b[0m                 \u001b[1;32mreturn\u001b[0m \u001b[0mcom\u001b[0m\u001b[1;33m.\u001b[0m\u001b[0m_values_from_object\u001b[0m\u001b[1;33m(\u001b[0m\u001b[0mindexer\u001b[0m\u001b[1;33m)\u001b[0m\u001b[1;33m\u001b[0m\u001b[0m\n",
      "\u001b[1;31mKeyError\u001b[0m: \"['rideDistance' 'swimDistance' 'walkDistance'] not in index\""
     ]
    }
   ],
   "source": [
    "# Total moving distance\n",
    "df1 = df_all[['Id', 'rideDistance', 'swimDistance', 'walkDistance', 'winPlacePerc']]\n",
    "df1.loc[:,'total_distance'] = df1.rideDistance + df1.swimDistance + df1.walkDistance\n",
    "temp1 = df1[df1.winPlacePerc >= 0][['Id', 'total_distance', 'winPlacePerc']]\n",
    "'''\n",
    "low: [0, 0.3]              L\n",
    "medium: (0.3, 0.6]         M\n",
    "medium high: (0.6, 0.85]   MH\n",
    "high: (0.85, 1]            H\n",
    "\n",
    "level  mean_distance\n",
    "0     H     4097.159395\n",
    "1     L      230.670046\n",
    "2     M     1338.473811\n",
    "3    MH     3118.616026\n",
    "'''\n",
    "# temp.loc[:,'level'] = temp.apply(lambda x:'L' if x[1]>=0 and x[1]<=0.3 \\\n",
    "#                                  else ('M' if x[1]>0.3 and x[1]<=0.6 \\\n",
    "#                                        else ('MH' if x[1]>0.6 and x[1]<=0.85 \\\n",
    "#                                              else 'H')), axis=1)\n",
    "bins = [0, 230, 1338, 3118, 4097, float(\"inf\")]\n",
    "labels = ['A', 'B', 'C', 'D', 'E']\n",
    "temp2 = pd.cut(temp1.total_distance, bins, labels=labels, include_lowest=True)\n",
    "temp1.rename(columns={'total_distance':'total_distance1'}, inplace=True)\n",
    "temp3 = pd.concat([temp1, temp2], axis=1)\n",
    "temp3.drop(temp3.columns[[1, 2]], axis=1, inplace=True)\n",
    "df_all.drop(['rideDistance', 'swimDistance', 'walkDistance'], axis=1, inplace=True)\n",
    "feature8 = temp3"
   ]
  },
  {
   "cell_type": "code",
   "execution_count": null,
   "metadata": {
    "_uuid": "c8e1f388318f45eff68dfdd516d7f8512b00165b"
   },
   "outputs": [],
   "source": [
    "# Merge personal features\n",
    "features = [feature1, feature2, feature3, feature4, feature5, feature6, feature7, feature8]\n",
    "person_features = df_all.Id.to_frame()\n",
    "for ft in features:\n",
    "    person_features = pd.merge(person_features, ft, on='Id')"
   ]
  },
  {
   "cell_type": "code",
   "execution_count": null,
   "metadata": {},
   "outputs": [],
   "source": [
    "## Group features\n",
    "\n",
    "\n"
   ]
  },
  {
   "cell_type": "code",
   "execution_count": 104,
   "metadata": {},
   "outputs": [],
   "source": [
    "## Processing original data\n",
    "# [1]\n",
    "bins = [0, 500, 800, 1000, 1500, 2000, float(\"inf\")]\n",
    "labels = [\"A\", \"B\", \"C\", \"D\", \"E\", \"F\"]\n",
    "out = pd.cut(df_all.damageDealt, bins, labels=labels, include_lowest=True)\n",
    "df_all.rename(columns={'damageDealt':'damageDealt1'}, inplace=True)\n",
    "df_all = pd.concat([df_all, out], axis=1)\n",
    "df_all.drop(['damageDealt1'], axis=1, inplace=True)"
   ]
  },
  {
   "cell_type": "code",
   "execution_count": 107,
   "metadata": {},
   "outputs": [
    {
     "data": {
      "image/png": "[encoded data removed]",
      "text/plain": [
       "<Figure size 432x288 with 1 Axes>"
      ]
     },
     "metadata": {},
     "output_type": "display_data"
    },
    {
     "name": "stdout",
     "output_type": "stream",
     "text": [
      "A    3804631\n",
      "D    2017928\n",
      "E     281538\n",
      "C     256606\n",
      "F      15474\n",
      "B       4527\n",
      "G        434\n",
      "Name: killPoints, dtype: int64\n"
     ]
    }
   ],
   "source": [
    "# [2]\n",
    "sns.distplot(df_all.killPoints, kde=False)\n",
    "plt.show()\n",
    "\n",
    "bins = [0, 200, 500, 1000, 1500, 1800, 2000, float(\"inf\")]\n",
    "labels = [\"A\", \"B\", \"C\", \"D\", \"E\", \"F\", \"G\"]\n",
    "out = pd.cut(df_all.killPoints, bins, labels=labels, include_lowest=True)\n",
    "count = pd.value_counts(out)\n",
    "print(count)"
   ]
  },
  {
   "cell_type": "code",
   "execution_count": null,
   "metadata": {
    "_uuid": "fad150074e0412286228dd763241cfe9e9b4e127"
   },
   "outputs": [],
   "source": [
    "## Merge person features to original data\n",
    "df = pd.merge(df_all, person_features, on='Id')\n",
    "test_id = df[-len(test):].Id.values\n",
    "df.drop(['Id', 'groupId', 'matchId'], 1, inplace=True)\n",
    "\n",
    "# One-hot encode for character feature\n",
    "dummy_features = pd.get_dummies(df['matchType'], prefix='matchType')\n",
    "for dummy in dummy_features:\n",
    "    df[dummy] = dummy_features[dummy]\n",
    "df.drop(['matchType'], 1, inplace=True)\n",
    "\n",
    "# Normalize numberic value\n",
    "for index, value in df.dtypes.iteritems():\n",
    "    minValue = df[index].min()\n",
    "    maxValue = df[index].max()\n",
    "    df[index] = df[index].apply(lambda x:(x - minValue) / (maxValue - minValue) if maxValue != minValue else 0)    "
   ]
  },
  {
   "cell_type": "code",
   "execution_count": null,
   "metadata": {
    "_uuid": "6f8fc024f88b7c46406ffce3b325df4a2d9c1389"
   },
   "outputs": [],
   "source": [
    "# Split train/test\n",
    "train = df[:-len(test)]\n",
    "test = df[-len(test):] "
   ]
  },
  {
   "cell_type": "code",
   "execution_count": null,
   "metadata": {
    "_uuid": "f90b40bc8939479df23c619c8d278113609c6b60"
   },
   "outputs": [],
   "source": [
    "# Modeling:xgboost\n",
    "yTrain = np.array(train.winPlacePerc)\n",
    "train.drop(['winPlacePerc'], 1, inplace=True)\n",
    "test.drop(['winPlacePerc'], 1, inplace=True)\n",
    "\n",
    "num_trees = 100\n",
    "params = {\"objective\": \"reg:linear\",\n",
    "          \"eta\": 0.15,\n",
    "          \"max_depth\": 8,\n",
    "          \"subsample\": 0.7,\n",
    "          \"colsample_bytree\": 0.7,\n",
    "          \"silent\": 1\n",
    "          }\n",
    "\n",
    "dtrain = xgb.DMatrix(train, label=yTrain)\n",
    "dtest = xgb.DMatrix(test)\n",
    "watchlist = [(dtrain, 'train')]\n",
    "\n",
    "gbm = xgb.train(params, dtrain, num_trees, evals=watchlist, early_stopping_rounds=50, verbose_eval=True)\n",
    "\n",
    "yhat = gbm.predict(dtest)"
   ]
  },
  {
   "cell_type": "code",
   "execution_count": null,
   "metadata": {
    "_uuid": "e77cd259839c6691f687f173b86fbf851ae4d799"
   },
   "outputs": [],
   "source": [
    "# Save result\n",
    "arr = np.vstack((test_id, yhat))\n",
    "arr = arr.T\n",
    "df_final = pd.DataFrame(arr, columns=['Id', 'winPlacePerc'])\n",
    "df_final.to_csv(\"submission.csv\", index=False)\n",
    "print(\"Generated submission file!\")"
   ]
  }
 ],
 "metadata": {
  "kernelspec": {
   "display_name": "Python [conda env:Anaconda3]",
   "language": "python",
   "name": "conda-env-Anaconda3-py"
  },
  "language_info": {
   "codemirror_mode": {
    "name": "ipython",
    "version": 3
   },
   "file_extension": ".py",
   "mimetype": "text/x-python",
   "name": "python",
   "nbconvert_exporter": "python",
   "pygments_lexer": "ipython3",
   "version": "3.6.5"
  }
 },
 "nbformat": 4,
 "nbformat_minor": 1
}
